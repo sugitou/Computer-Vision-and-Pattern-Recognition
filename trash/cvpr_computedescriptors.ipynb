{
 "cells": [
  {
   "cell_type": "code",
   "execution_count": 1,
   "metadata": {},
   "outputs": [],
   "source": [
    "import os\n",
    "import numpy as np\n",
    "import cv2\n",
    "import scipy.io as sio\n",
    "from extractRandom import extractRandom\n",
    "\n",
    "DATASET_FOLDER = 'MSRC_ObjCategImageDatabase_v2'\n",
    "OUT_FOLDER = 'descriptors'\n",
    "OUT_SUBFOLDER = 'globalRGBhisto'"
   ]
  },
  {
   "cell_type": "code",
   "execution_count": 33,
   "metadata": {},
   "outputs": [],
   "source": [
    "def extractDescriptor(img):\n",
    "    hists = []\n",
    "    for i in list(img.ndim):\n",
    "        hist = np.histogram(img[:, :, i], bins=256, range=(0, 256))[0]\n",
    "        hists.append(hist)\n",
    "    average_hist = np.vstack(hists).mean(axis=0)\n",
    "    print(average_hist)\n",
    "    return average_hist"
   ]
  },
  {
   "cell_type": "code",
   "execution_count": 34,
   "metadata": {},
   "outputs": [
    {
     "name": "stdout",
     "output_type": "stream",
     "text": [
      "Processing file 17_15_s.bmp\n"
     ]
    },
    {
     "ename": "TypeError",
     "evalue": "'int' object is not iterable",
     "output_type": "error",
     "traceback": [
      "\u001b[0;31m---------------------------------------------------------------------------\u001b[0m",
      "\u001b[0;31mTypeError\u001b[0m                                 Traceback (most recent call last)",
      "Cell \u001b[0;32mIn[34], line 15\u001b[0m\n\u001b[1;32m     11\u001b[0m fout \u001b[38;5;241m=\u001b[39m os\u001b[38;5;241m.\u001b[39mpath\u001b[38;5;241m.\u001b[39mjoin(OUT_FOLDER, OUT_SUBFOLDER, filename\u001b[38;5;241m.\u001b[39mreplace(\u001b[38;5;124m'\u001b[39m\u001b[38;5;124m.bmp\u001b[39m\u001b[38;5;124m'\u001b[39m, \u001b[38;5;124m'\u001b[39m\u001b[38;5;124m.npy\u001b[39m\u001b[38;5;124m'\u001b[39m))\n\u001b[1;32m     13\u001b[0m \u001b[38;5;66;03m# Call extractRandom (or another feature extraction function) to get the descriptor\u001b[39;00m\n\u001b[1;32m     14\u001b[0m \u001b[38;5;66;03m# F = extractRandom(img)\u001b[39;00m\n\u001b[0;32m---> 15\u001b[0m F \u001b[38;5;241m=\u001b[39m \u001b[43mextractDescriptor\u001b[49m\u001b[43m(\u001b[49m\u001b[43mimg\u001b[49m\u001b[43m)\u001b[49m\n\u001b[1;32m     16\u001b[0m \u001b[38;5;66;03m# normF = F.astype(np.float64) / 255.0\u001b[39;00m\n\u001b[1;32m     17\u001b[0m \n\u001b[1;32m     18\u001b[0m \u001b[38;5;66;03m# Save the descriptor to a .mat file\u001b[39;00m\n\u001b[1;32m     19\u001b[0m sio\u001b[38;5;241m.\u001b[39msavemat(fout, {\u001b[38;5;124m'\u001b[39m\u001b[38;5;124mF\u001b[39m\u001b[38;5;124m'\u001b[39m: F})\n",
      "Cell \u001b[0;32mIn[33], line 3\u001b[0m, in \u001b[0;36mextractDescriptor\u001b[0;34m(img)\u001b[0m\n\u001b[1;32m      1\u001b[0m \u001b[38;5;28;01mdef\u001b[39;00m \u001b[38;5;21mextractDescriptor\u001b[39m(img):\n\u001b[1;32m      2\u001b[0m     hists \u001b[38;5;241m=\u001b[39m []\n\u001b[0;32m----> 3\u001b[0m     \u001b[38;5;28;01mfor\u001b[39;00m i \u001b[38;5;129;01min\u001b[39;00m \u001b[38;5;28;43mlist\u001b[39;49m\u001b[43m(\u001b[49m\u001b[43mimg\u001b[49m\u001b[38;5;241;43m.\u001b[39;49m\u001b[43mndim\u001b[49m\u001b[43m)\u001b[49m:\n\u001b[1;32m      4\u001b[0m         hist \u001b[38;5;241m=\u001b[39m np\u001b[38;5;241m.\u001b[39mhistogram(img[:, :, i], bins\u001b[38;5;241m=\u001b[39m\u001b[38;5;241m256\u001b[39m, \u001b[38;5;28mrange\u001b[39m\u001b[38;5;241m=\u001b[39m(\u001b[38;5;241m0\u001b[39m, \u001b[38;5;241m256\u001b[39m))[\u001b[38;5;241m0\u001b[39m]\n\u001b[1;32m      5\u001b[0m         hists\u001b[38;5;241m.\u001b[39mappend(hist)\n",
      "\u001b[0;31mTypeError\u001b[0m: 'int' object is not iterable"
     ]
    }
   ],
   "source": [
    "# Ensure the output directory exists\n",
    "os.makedirs(os.path.join(OUT_FOLDER, OUT_SUBFOLDER), exist_ok=True)\n",
    "\n",
    "# Iterate through all BMP files in the dataset folder\n",
    "for filename in os.listdir(os.path.join(DATASET_FOLDER, 'Images')):\n",
    "    if filename.endswith(\".bmp\"):\n",
    "        print(f\"Processing file {filename}\")\n",
    "        img_path = os.path.join(DATASET_FOLDER, 'Images', filename)\n",
    "        # img = cv2.imread(img_path).astype(np.float64) / 255.0  # Normalize the image\n",
    "        img = cv2.imread(img_path)\n",
    "        fout = os.path.join(OUT_FOLDER, OUT_SUBFOLDER, filename.replace('.bmp', '.npy'))\n",
    "        \n",
    "        # Call extractRandom (or another feature extraction function) to get the descriptor\n",
    "        # F = extractRandom(img)\n",
    "        F = extractDescriptor(img)\n",
    "        # normF = F.astype(np.float64) / 255.0\n",
    "        \n",
    "        # Save the descriptor to a .mat file\n",
    "        sio.savemat(fout, {'F': F})"
   ]
  }
 ],
 "metadata": {
  "kernelspec": {
   "display_name": "sugitouLab",
   "language": "python",
   "name": "python3"
  },
  "language_info": {
   "codemirror_mode": {
    "name": "ipython",
    "version": 3
   },
   "file_extension": ".py",
   "mimetype": "text/x-python",
   "name": "python",
   "nbconvert_exporter": "python",
   "pygments_lexer": "ipython3",
   "version": "3.10.11"
  }
 },
 "nbformat": 4,
 "nbformat_minor": 2
}
